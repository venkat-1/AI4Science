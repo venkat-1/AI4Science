{
  "nbformat": 4,
  "nbformat_minor": 0,
  "metadata": {
    "celltoolbar": "Raw Cell Format",
    "kernelspec": {
      "display_name": "Python 3",
      "language": "python",
      "name": "python3"
    },
    "language_info": {
      "codemirror_mode": {
        "name": "ipython",
        "version": 3
      },
      "file_extension": ".py",
      "mimetype": "text/x-python",
      "name": "python",
      "nbconvert_exporter": "python",
      "pygments_lexer": "ipython3",
      "version": "3.7.6"
    },
    "colab": {
      "name": "Copy of Regression.ipynb",
      "provenance": [],
      "collapsed_sections": [],
      "include_colab_link": true
    }
  },
  "cells": [
    {
      "cell_type": "markdown",
      "metadata": {
        "id": "view-in-github",
        "colab_type": "text"
      },
      "source": [
        "<a href=\"https://colab.research.google.com/github/venkat-1/AI4Science/blob/master/Copy_of_Regression.ipynb\" target=\"_parent\"><img src=\"https://colab.research.google.com/assets/colab-badge.svg\" alt=\"Open In Colab\"/></a>"
      ]
    },
    {
      "cell_type": "markdown",
      "metadata": {
        "id": "9IoG3WpMrliz",
        "colab_type": "text"
      },
      "source": [
        "This Python Notebook is created for the purposes of an AI Tutorial to be conducted in Argonne National Laboratory, and is co-authored by Arun Mannodi-Kanakkithodi, Olle Heinonen, Venkatram Vishwanath and Logan Ward. The work discussed here is based on the following publication by Arun Mannodi-Kanakkithodi et al.: https://www.nature.com/articles/s41524-020-0296-7\n",
        "\n",
        "In this tutorial, we will work through a problem that follows a fairly standard workflow in a science application of AI. The problem is to make predictions based on learning from data sets. In this case, the prediction we want to make is whether or not hypothetical atomic defects or impurities in semiconductors are suitable for solar cell applications; specifically, we want to make predictions of the charge and Fermi level dependent defect formation energy for specific defects in some semiconductors for which there exist no data, based on calculations on some set of defects and semiconductors. The raw data in this case comes from density functional theory calculations. The semiconductor chemical space studied here is Cd-based chalcogenides with the general formula CdX, where the anion X can be Te, Se or S. The chemical space of defect or impurity atoms is obtained by sweeping across periods II to VI of the periodic table.\n",
        "\n",
        "What we desire ultimately for any defect/impurity in a given semiconductor compound is a full charge-dependent formation energy vs Fermi level (as it goes from the valence band minimum to the conduction band maximum) plot, an example of which is shown in Slide 2 of the attached presentation. Predicting two types of properties enables the creation of such plots: the neutral state formation energy, and every relevant q1/q2 defect charge transition level (the Fermi level at which the defect transitions from one charge state, q1, to another, q2). We will thus be training ML predictive models for both properties. This particular notebook pertains to the workflow leading to the prediction of neutral state formation energies, calculated at three types of chemical potential conditions: Cd-rich, moderate, and anion-rich (where anion is Te, Se or S).\n",
        "\n",
        "We have to process the raw data to extract relevant quantities for defects in semiconductors. Then we have to construct descriptors X based on the data, and also the properties P that we think are the important ones. The goal is to obtain a model that can map the descriptors X onto properties P with some desired accuracy. The descriptors are not necessarily obvious so we have to spend some time to examine what are relevant descriptors, as well as what are not so relevant descriptors or redundant descriptors. Next, we will select a suitable machine learning model. In this case, we will mostly focus on Random Forest, which is a regression model, but we may also look at other regression models, such as Kernel Ridge Regression or Least Absolute Shrinkage and Selection Operator (LASSO). Of course, neural network may also be used. We will train our regression model on subsets of the available data (training data) and use other subsets for validation (test data). The training will involve \"tweaking\" hyperparameters (parameters inside the specific models) to optimize the model. Finally, we will then test the model by making predictions for systems outside the training set - we have some calculated data points outside the training sets that we will use for comparison to see how well the model did.\n",
        "\n",
        "*NOTE: We use the terms defect and impurity interchangeably here; any atom (whether native or external) that breaks the stoichiometry of a compound by occuring at an interstitial site or substituting an atom at a different site, or simply missing from its original site (vacancy), is referred to in general as a point defect. The emphasis on 'impurity' is to drive home the distinction of an external atom being present as a defect, as opposed to a native defect.\n",
        "\n",
        "The workflow will all be done using python in Jupyter notebook. The regression models we use will be imported from the scikit-learn library (https://scikit-learn.org). There are other libraries that could be used, e.g. pytorch (https://pytorch.org/) or keras (https://keras.io/).\n",
        "\n",
        "First, we will import standard python libraries."
      ]
    },
    {
      "cell_type": "code",
      "metadata": {
        "id": "VDiv6vZSrli1",
        "colab_type": "code",
        "colab": {}
      },
      "source": [
        "from __future__ import print_function\n",
        "import numpy as np    \n",
        "import csv\n",
        "import copy\n",
        "import random\n",
        "import pandas\n",
        "import matplotlib.pyplot as plt\n"
      ],
      "execution_count": 1,
      "outputs": []
    },
    {
      "cell_type": "markdown",
      "metadata": {
        "id": "ZVMoMHsdrli8",
        "colab_type": "text"
      },
      "source": [
        "Next, we will import various regression models, including Random Forest, LASSO, Kernel Ridge, as well as some regression utilities from scikit-learn."
      ]
    },
    {
      "cell_type": "code",
      "metadata": {
        "id": "Ns0F7JHJrli9",
        "colab_type": "code",
        "colab": {}
      },
      "source": [
        "import sklearn\n",
        "from sklearn import linear_model\n",
        "from sklearn.model_selection import cross_validate\n",
        "from sklearn.model_selection import train_test_split\n",
        "from sklearn.model_selection import KFold\n",
        "from sklearn.linear_model import Lasso\n",
        "from sklearn.linear_model import ElasticNet\n",
        "from sklearn.ensemble import RandomForestRegressor\n",
        "\n",
        "from sklearn.kernel_ridge import KernelRidge\n",
        "from sklearn.model_selection import GridSearchCV\n",
        "from sklearn.gaussian_process import GaussianProcessRegressor\n",
        "from sklearn.gaussian_process.kernels import WhiteKernel, ExpSineSquared\n"
      ],
      "execution_count": 2,
      "outputs": []
    },
    {
      "cell_type": "markdown",
      "metadata": {
        "id": "rnw2zeQJrljC",
        "colab_type": "text"
      },
      "source": [
        "Next, we will load the DFT data and descriptors. The data are based on DFT calculations of defect atoms (which can have different charges) in Cd-based compounds, CdX, where X is Te, Se, or S and contain the neutral state defect formation energy at three types of chemical potential conditions. We will also read in descriptors that are based on the elemental properties of the defect atom. We will train the model on different sets of descriptors and see what works best.\n",
        "\n",
        "Below, the DFT data + set of descriptors is read from a Data.csv file. Every data point is an impurity atom + defect site + CdX compound + DFT computed set of properties + complete set of descriptors. There are 3 DFT properties here: formation energy at Cd-rich, moderate, and anion-rich chemical potential conditions. 1st set of descriptors is from column 7 to column 20, 2nd set of descriptors is from column 21 to column 25, and the complete set of descriptors is when columns 7 to 25 are used. Two further .csv files are read: Outside.csv which contains additional DFT computations performed on new compounds (CdTeSe and CdSeS alloys) and X.csv which contains descriptors for thousands of possible data points that make up the chemical space.\n",
        "\n",
        "Specifically, there are 1827 total impurities possible in the 5 compounds (CdTe, CdTeSe, CdSe, CdSeS, CdS), of which DFT computations of neutral state formation energies are performed for 945 impurities (note that fewer impurities are used for charge transition level calculations, as the charged calculations are more expensive than the neutral state calculations). Neutral state formation energy data has thus been generated for ~ 50% of the total data points. X.csv contains 1827 points and Data.csv contains 945 points. Outside.csv contains calculations on 44 new impurities in CdTeSe and CdSeS that are used for \"out-of-sample\" validation.\n",
        "\n",
        "*NOTE: DFT data in CdTe, CdSe and CdS have been generated for 945 impurities when it comes to neutral state formation energies (leading to an ML dataset of 945 points) but only 381 impurities when it comes to charge transition levels (leading to an ML dataset of 2286 points). While neutral state formation energies provide some idea about the stability and likelihood of formation of any defect/impurity in the given compound, both properties need to predicted to yield the complete charge and Fermi level dependent formation energy picture.\n"
      ]
    },
    {
      "cell_type": "code",
      "metadata": {
        "id": "16gOGOPMrljD",
        "colab_type": "code",
        "colab": {
          "base_uri": "https://localhost:8080/",
          "height": 578
        },
        "outputId": "2e4f76e8-8094-48b7-88c9-e597363e1036"
      },
      "source": [
        "##  Read Data  ##\n",
        "\n",
        "!wget https://raw.githubusercontent.com/AIScienceTutorial/Material_Science/master/Formation_Energies/Data.csv\n",
        "\n",
        "ifile  = open('Data.csv', \"rt\")\n",
        "#ifile  = open('Data_norm.csv', \"rt\")\n",
        "reader = csv.reader(ifile)\n",
        "csvdata=[]\n",
        "for row in reader:\n",
        "        csvdata.append(row)   \n",
        "ifile.close()\n",
        "numrow=len(csvdata)\n",
        "numcol=len(csvdata[0]) \n",
        "csvdata = np.array(csvdata).reshape(numrow,numcol)\n",
        "dopant = csvdata[:,0]\n",
        "CdX = csvdata[:,1]\n",
        "doping_site = csvdata[:,2]\n",
        "prop  = csvdata[:,3]  ## Cd-rich Delta_H\n",
        "#prop  = csvdata[:,4]  ## Mod. Delta_H\n",
        "#prop  = csvdata[:,5]  ## X-rich Delta_H\n",
        "#X = csvdata[:,6:20]\n",
        "#X = csvdata[:,20:25]\n",
        "X = csvdata[:,6:]\n",
        "\n",
        "\n",
        "\n",
        "!wget https://raw.githubusercontent.com/AIScienceTutorial/Material_Science/master/Formation_Energies/Outside.csv\n",
        "\n",
        "    # Read CdX alloy data: CdTe_0.5Se_0.5 and CdSe_0.5S_0.5\n",
        "ifile2  = open('Outside.csv', \"rt\")\n",
        "#ifile2  = open('Outside_norm.csv', \"rt\")\n",
        "reader2 = csv.reader(ifile2)\n",
        "csvdata2=[]\n",
        "for row2 in reader2:\n",
        "        csvdata2.append(row2)\n",
        "ifile2.close()\n",
        "numrow2=len(csvdata2)\n",
        "numcol2=len(csvdata2[0])\n",
        "csvdata2 = np.array(csvdata2).reshape(numrow2,numcol2)\n",
        "dopant_out = csvdata2[:,0]\n",
        "CdX_out = csvdata2[:,1]\n",
        "doping_site_out = csvdata2[:,2]\n",
        "prop_out  = csvdata2[:,3]\n",
        "#prop_out  = csvdata2[:,4]\n",
        "#prop_out  = csvdata2[:,5]\n",
        "#X_out = csvdata2[:,6:20]\n",
        "#X_out = csvdata2[:,20:25]\n",
        "X_out = csvdata2[:,6:]\n",
        "\n",
        "n_out = prop_out.size\n",
        "\n",
        "\n",
        "!wget https://raw.githubusercontent.com/AIScienceTutorial/Material_Science/master/Formation_Energies/X.csv\n",
        "\n",
        "    # Read Entire Dataset                                                                                                              \n",
        "ifile3  = open('X.csv', \"rt\")\n",
        "#ifile3  = open('X_norm.csv', \"rt\")\n",
        "reader3 = csv.reader(ifile3)\n",
        "csvdata3=[]\n",
        "for row3 in reader3:\n",
        "        csvdata3.append(row3)\n",
        "ifile3.close()\n",
        "numrow3=len(csvdata3)\n",
        "numcol3=len(csvdata3[0])\n",
        "csvdata3 = np.array(csvdata3).reshape(numrow3,numcol3)\n",
        "dopant_all = csvdata3[:,0]\n",
        "CdX_all = csvdata3[:,1]\n",
        "doping_site_all = csvdata3[:,2]\n",
        "#X_all = csvdata3[:,3:17]\n",
        "#X_all = csvdata3[:,17:22]\n",
        "X_all = csvdata3[:,3:]\n",
        "\n",
        "n_all = dopant_all.size\n",
        "\n"
      ],
      "execution_count": 5,
      "outputs": [
        {
          "output_type": "stream",
          "text": [
            "--2020-08-11 13:22:57--  https://raw.githubusercontent.com/AIScienceTutorial/Material_Science/master/Formation_Energies/Data.csv\n",
            "Resolving raw.githubusercontent.com (raw.githubusercontent.com)... 151.101.0.133, 151.101.64.133, 151.101.128.133, ...\n",
            "Connecting to raw.githubusercontent.com (raw.githubusercontent.com)|151.101.0.133|:443... connected.\n",
            "HTTP request sent, awaiting response... 200 OK\n",
            "Length: 114063 (111K) [text/plain]\n",
            "Saving to: ‘Data.csv.2’\n",
            "\n",
            "\rData.csv.2            0%[                    ]       0  --.-KB/s               \rData.csv.2          100%[===================>] 111.39K  --.-KB/s    in 0.04s   \n",
            "\n",
            "2020-08-11 13:22:57 (2.84 MB/s) - ‘Data.csv.2’ saved [114063/114063]\n",
            "\n",
            "--2020-08-11 13:22:57--  https://raw.githubusercontent.com/AIScienceTutorial/Material_Science/master/Formation_Energies/Outside.csv\n",
            "Resolving raw.githubusercontent.com (raw.githubusercontent.com)... 151.101.0.133, 151.101.64.133, 151.101.128.133, ...\n",
            "Connecting to raw.githubusercontent.com (raw.githubusercontent.com)|151.101.0.133|:443... connected.\n",
            "HTTP request sent, awaiting response... 200 OK\n",
            "Length: 5790 (5.7K) [text/plain]\n",
            "Saving to: ‘Outside.csv’\n",
            "\n",
            "Outside.csv         100%[===================>]   5.65K  --.-KB/s    in 0s      \n",
            "\n",
            "2020-08-11 13:22:58 (70.5 MB/s) - ‘Outside.csv’ saved [5790/5790]\n",
            "\n",
            "--2020-08-11 13:22:58--  https://raw.githubusercontent.com/AIScienceTutorial/Material_Science/master/Formation_Energies/X.csv\n",
            "Resolving raw.githubusercontent.com (raw.githubusercontent.com)... 151.101.0.133, 151.101.64.133, 151.101.128.133, ...\n",
            "Connecting to raw.githubusercontent.com (raw.githubusercontent.com)|151.101.0.133|:443... connected.\n",
            "HTTP request sent, awaiting response... 200 OK\n",
            "Length: 196463 (192K) [text/plain]\n",
            "Saving to: ‘X.csv’\n",
            "\n",
            "X.csv               100%[===================>] 191.86K  --.-KB/s    in 0.04s   \n",
            "\n",
            "2020-08-11 13:22:58 (4.31 MB/s) - ‘X.csv’ saved [196463/196463]\n",
            "\n"
          ],
          "name": "stdout"
        }
      ]
    },
    {
      "cell_type": "markdown",
      "metadata": {
        "id": "3STWwtmnrljI",
        "colab_type": "text"
      },
      "source": [
        "To train the model we will follow a standard protocol and divide the available data into sets for training and sets for validation. We will do this several times with different data selected for training and validation.\n",
        "\n",
        "Below, the dataset is divided into a training and test set. Applying t = 0.2 creates an 80-20 training-test split; change t for a different split."
      ]
    },
    {
      "cell_type": "code",
      "metadata": {
        "id": "F0-H_7TKrljJ",
        "colab_type": "code",
        "colab": {}
      },
      "source": [
        "##  Train-Test Split  ##\n",
        "\n",
        "XX = copy.deepcopy(X)\n",
        "n = dopant.size\n",
        "m = np.int(X.size/n)\n",
        "\n",
        "t = 0.20\n",
        "\n",
        "X_train, X_test, Prop_train, Prop_test, dop_train, dop_test, sc_train, sc_test, ds_train, ds_test = train_test_split(XX, prop, dopant, CdX, doping_site, test_size=t)\n",
        "\n",
        "n_tr = Prop_train.size\n",
        "n_te = Prop_test.size\n",
        "\n",
        "\n",
        "Prop_train_fl = np.zeros(n_tr)\n",
        "for i in range(0,n_tr):\n",
        "    Prop_train_fl[i] = copy.deepcopy(float(Prop_train[i]))\n",
        "\n",
        "Prop_test_fl = np.zeros(n_te)\n",
        "for i in range(0,n_te):\n",
        "    Prop_test_fl[i] = copy.deepcopy(float(Prop_test[i]))\n",
        "    \n",
        "X_train_fl = [[0.0 for a in range(m)] for b in range(n_tr)]\n",
        "for i in range(0,n_tr):\n",
        "    for j in range(0,m):\n",
        "        X_train_fl[i][j] = np.float(X_train[i][j])\n",
        "\n",
        "X_test_fl = [[0.0 for a in range(m)] for b in range(n_te)]\n",
        "for i in range(0,n_te):\n",
        "    for j in range(0,m):\n",
        "        X_test_fl[i][j] = np.float(X_test[i][j])\n",
        "\n",
        "\n",
        "X_out_fl = [[0.0 for a in range(m)] for b in range(n_out)]\n",
        "for i in range(0,n_out):\n",
        "    for j in range(0,m):\n",
        "        X_out_fl[i][j] = np.float(X_out[i][j])\n",
        "        \n",
        "X_all_fl = [[0.0 for a in range(m)] for b in range(n_all)]\n",
        "for i in range(0,n_all):\n",
        "    for j in range(0,m):\n",
        "        X_all_fl[i][j] = np.float(X_all[i][j])\n",
        "\n"
      ],
      "execution_count": 6,
      "outputs": []
    },
    {
      "cell_type": "markdown",
      "metadata": {
        "id": "D2VGPjeCrljN",
        "colab_type": "text"
      },
      "source": [
        "We will now start training the model. We will do this at three different levels of increasing sophistication. The first, and simplest, level ML1 is using the default parameters regression model (eg Random Forest). Next level, ML2, will dig into the model and optimize internal parameters of the model, hyperparameters, to obtain a better model. The last level, ML3, does hyperparameter optimization and cross-validation. The cross-validation is an important step to avoid or minimize overfitting of the model (think of this as fitting a high-order polynomial to a few data points). At the end, we will do a Grid Search, which is a scheme to march through a grid of hyperparameters, to find the best regression model within this set of hyperparameters.\n"
      ]
    },
    {
      "cell_type": "markdown",
      "metadata": {
        "id": "1wpx0VOIrljO",
        "colab_type": "text"
      },
      "source": [
        "ML1: Define random forest regressor with default parameters which fits a model to the training data and makes predictions on the test dataset. \n",
        "\n",
        "Print out the training and test predictions as .csv or .txt files if desired.\n"
      ]
    },
    {
      "cell_type": "code",
      "metadata": {
        "id": "PfJolaODrljP",
        "colab_type": "code",
        "colab": {}
      },
      "source": [
        " ###   Random Forest 1st Run: With Default Hyperparameters   ###\n",
        "\n",
        "param_grid = { }\n",
        "    \n",
        "rfreg_opt = GridSearchCV(RandomForestRegressor(), param_grid=param_grid)\n",
        "\n",
        "rfreg_opt.fit(X_train_fl, Prop_train_fl)\n",
        "Pred_train_fl = rfreg_opt.predict(X_train_fl)\n",
        "Pred_test_fl  = rfreg_opt.predict(X_test_fl)\n",
        "\n",
        "np.savetxt('Pred_train.csv', Pred_train_fl)\n",
        "np.savetxt('Pred_test.csv', Pred_test_fl)\n"
      ],
      "execution_count": 7,
      "outputs": []
    },
    {
      "cell_type": "markdown",
      "metadata": {
        "id": "s4Tumx4erljV",
        "colab_type": "text"
      },
      "source": [
        "ML2: Perform hyperparameter optimization when training random forest regression model. We define 5 hyperparameters to be tuned: number of estimators (number of trees in the forest), maximum depth of a tree, maximum features considered when looking for the best split, minimum number of samples required at a leaf node, and minimum number of samples required to split an internal node. All or some of these hyperparameters may be optimized by changing the rfregs_all definition loop. The Scikit-learn feature GridSearchCV enables looping through all combinations of hyperparameters and obtained the best set that minimizes test prediction error. \n",
        "\n",
        "Print out the training and test predictions as .csv or .txt files if desired. \n"
      ]
    },
    {
      "cell_type": "code",
      "metadata": {
        "id": "4-l9z7cArljW",
        "colab_type": "code",
        "colab": {}
      },
      "source": [
        " ###   Random Forest 2nd Run: With Hyperparameter Optimization   ###\n",
        "\n",
        "param_grid = {\n",
        "    \"n_estimators\": [50, 100, 200],\n",
        "              \"max_depth\": [5, 10, 15],\n",
        "              \"max_features\": [10, 15, m],\n",
        "              \"min_samples_leaf\": [5,10,20],\n",
        "              \"min_samples_split\": [2, 5, 10]\n",
        "}\n",
        "    \n",
        "rfreg_opt = GridSearchCV(RandomForestRegressor(), param_grid=param_grid)\n",
        "\n",
        "rfreg_opt.fit(X_train_fl, Prop_train_fl)\n",
        "Pred_train_fl = rfreg_opt.predict(X_train_fl)\n",
        "Pred_test_fl  = rfreg_opt.predict(X_test_fl)\n",
        "\n",
        "np.savetxt('Pred_train.csv', Pred_train_fl)\n",
        "np.savetxt('Pred_test.csv', Pred_test_fl)\n"
      ],
      "execution_count": null,
      "outputs": []
    },
    {
      "cell_type": "markdown",
      "metadata": {
        "id": "glPCQ8qFrljb",
        "colab_type": "text"
      },
      "source": [
        "ML3: Perform hyperparameter optimization (same as ML2) + cross-validation (used to take care of overfitting in machine learning). Change n-fold to define the type of cross-validation (CV), for eg. 5-fold CV (cv=5). GridSearchCV is used as before but defining cv=n means that at every point, the training data is divided into n folds; (n-1) sets are used at a time to train the model and the n-set (left out) is used for testing. The CV training and CV test errors are defined as averages over the n sets; the set of hyperparameters leading to minimum CV test error is taken as the optimal regressor. \n",
        "\n",
        "Print out the training and test predictions as .csv or .txt files if desired.\n"
      ]
    },
    {
      "cell_type": "code",
      "metadata": {
        "id": "y6nyxUb3rljc",
        "colab_type": "code",
        "colab": {}
      },
      "source": [
        " ###   Random Forest 3rd Run: With Hyperparameter Optimization and Cross-Validation   ###\n",
        "\n",
        "param_grid = {\n",
        "    \"n_estimators\": [50, 100, 200],\n",
        "              \"max_depth\": [5, 10, 15],\n",
        "              \"max_features\": [10, 15, m],\n",
        "              \"min_samples_leaf\": [5,10,20],\n",
        "              \"min_samples_split\": [2, 5, 10]\n",
        "}\n",
        "    \n",
        "rfreg_opt = GridSearchCV(RandomForestRegressor(), param_grid=param_grid, cv=5)\n",
        "\n",
        "rfreg_opt.fit(X_train_fl, Prop_train_fl)\n",
        "Pred_train_fl = rfreg_opt.predict(X_train_fl)\n",
        "Pred_test_fl  = rfreg_opt.predict(X_test_fl)\n",
        "\n",
        "np.savetxt('Pred_train.csv', Pred_train_fl)\n",
        "np.savetxt('Pred_test.csv', Pred_test_fl)\n"
      ],
      "execution_count": null,
      "outputs": []
    },
    {
      "cell_type": "markdown",
      "metadata": {
        "id": "oXihwNgwrlji",
        "colab_type": "text"
      },
      "source": [
        "To compare random forest with another ML technique:\n",
        "\n",
        "Kernel Ridge Regression with hyperparameter optimization and cross-validation using GridSearchCV.\n"
      ]
    },
    {
      "cell_type": "code",
      "metadata": {
        "id": "wPKmGdxhrljj",
        "colab_type": "code",
        "colab": {}
      },
      "source": [
        "##  Train Kernel Ridge Regression Model  ##\n",
        "\n",
        "\n",
        "param_grid = {\n",
        "\"alpha\": [1e0, 1e-1, 1e-2, 1e-3],\n",
        "\"kernel\": [ExpSineSquared(l, p)\n",
        "            for l in np.logspace(-2, 2, 10)\n",
        "            for p in np.logspace(0, 2, 10)]\n",
        "}\n",
        "\n",
        "krr_opt = GridSearchCV(KernelRidge(), param_grid=param_grid, cv=5)\n",
        "\n",
        "krr_opt.fit(X_train_fl, Prop_train_fl)\n",
        "Pred_train_fl = krr_opt.predict(X_train_fl)\n",
        "Pred_test_fl  = krr_opt.predict(X_test_fl)\n",
        "\n",
        "np.savetxt('Pred_train.csv', Pred_train_fl)\n",
        "np.savetxt('Pred_test.csv', Pred_test_fl)\n"
      ],
      "execution_count": null,
      "outputs": []
    },
    {
      "cell_type": "markdown",
      "metadata": {
        "id": "WC39CX9krljn",
        "colab_type": "text"
      },
      "source": [
        "To compare random forest with another ML technique:\n",
        "\n",
        "LASSO Regression with hyperparameter optimization and cross-validation using GridSearchCV."
      ]
    },
    {
      "cell_type": "code",
      "metadata": {
        "id": "LpXtaq32rljo",
        "colab_type": "code",
        "colab": {}
      },
      "source": [
        "##  Train LASSO Regression Model  ##\n",
        "\n",
        "\n",
        "param_grid = {\n",
        "\"alpha\": [1e0, 1e-1, 1e-2, 1e-3],\n",
        "\"max_iter\": [1e3, 134, 1e5, 1e6]\n",
        "}\n",
        "\n",
        "lassoreg = GridSearchCV(Lasso(), param_grid=param_grid, cv=5)\n",
        "\n",
        "lassoreg.fit(X_train_fl, Prop_train_fl)\n",
        "Pred_train_fl = lassoreg.predict(X_train_fl)\n",
        "Pred_test_fl  = lassoreg.predict(X_test_fl)\n",
        "\n",
        "np.savetxt('Pred_train.csv', Pred_train_fl)\n",
        "np.savetxt('Pred_test.csv', Pred_test_fl)\n"
      ],
      "execution_count": null,
      "outputs": []
    },
    {
      "cell_type": "markdown",
      "metadata": {
        "id": "b7ixoezurljs",
        "colab_type": "text"
      },
      "source": [
        "Use the optimal regressor as obtained above (RF or KRR or LASSO) to make predictions on (a) the outside dataset, which contains additional DFT data generated for CdTeSe and CdSeS compounds (which were not included at all in Data.csv, the file used for training and testing the regression models), and (b) the entire chemical space, which contains all the DFT data points + the missing data points which make up ~ 80% of the total data points. Print out the predictions as .csv or .txt files if desired."
      ]
    },
    {
      "cell_type": "code",
      "metadata": {
        "id": "n8OJa9Slrljt",
        "colab_type": "code",
        "colab": {}
      },
      "source": [
        "###    Outside Prediction    ###\n",
        "\n",
        "\n",
        "Pred_out = rfreg_opt.predict(X_out)\n",
        "#Pred_out = krr_opt.predict(X_out)\n",
        "#Pred_out = lassoreg.predict(X_out_fl)\n",
        "Pred_out_fl = [0.0]*Pred_out.size\n",
        "Prop_out_fl = [0.0]*Pred_out.size\n",
        "for i in range(0,prop_out.size):\n",
        "    Prop_out_fl[i] = np.float(prop_out[i])\n",
        "for i in range(0,prop_out.size):\n",
        "    Pred_out_fl[i] = np.float(Pred_out[i])\n",
        "\n",
        "np.savetxt('Pred_out.csv', Pred_out_fl)\n",
        "\n",
        "\n",
        "\n",
        "Pred_all = rfreg_opt.predict(X_all)\n",
        "#Pred_all = krr_opt.predict(X_all)\n",
        "#Pred_all = lassoreg.predict(X_all_fl)\n",
        "Pred_all_fl = [0.0]*Pred_all.size\n",
        "for i in range(0,Pred_all.size):\n",
        "    Pred_all_fl[i] = np.float(Pred_all[i])\n",
        "\n",
        "np.savetxt('Pred_all.csv', Pred_all_fl)\n",
        "\n"
      ],
      "execution_count": 8,
      "outputs": []
    },
    {
      "cell_type": "markdown",
      "metadata": {
        "id": "2VgSwVHbrljy",
        "colab_type": "text"
      },
      "source": [
        "If error bars are desired, they can be calculated from the random forest regressor based on the standard deviation of predictions from across the different estimators or trees in the forest. Change the percentile from 95 if needed. Error bars are estimated based on the RF predictors for the training, test, outside and entire datasets.\n"
      ]
    },
    {
      "cell_type": "code",
      "metadata": {
        "id": "2b7aCJt3rljz",
        "colab_type": "code",
        "colab": {}
      },
      "source": [
        "##  Error Bars of Training and Test Datasets  ##\n",
        "\n",
        "\n",
        "percentile = 95\n",
        "\n",
        "\n",
        "best_params = rfreg_opt.best_params_\n",
        "    \n",
        "#rfr = RandomForestRegressor(bootstrap=True, criterion='mae', max_depth=best_params[\"max_depth\"], n_estimators=best_params[\"n_estimators\"], max_features=best_params[\"max_features\"], min_samples_leaf=best_params[\"min_samples_leaf\"], min_samples_split=best_params[\"min_samples_split\"])\n",
        "rfr = RandomForestRegressor(bootstrap=True, criterion='mae')\n",
        "\n",
        "rfr.fit(X_train_fl, Prop_train_fl)\n",
        "\n",
        "err_up_train   = [0.0]*n_tr\n",
        "err_down_train = [0.0]*n_tr\n",
        "preds_fl = [[0.0 for a in range(n_tr)] for b in range (len(rfr.estimators_))]\n",
        "z = 0\n",
        "\n",
        "for pred in rfr.estimators_:\n",
        "    preds = pred.predict(X_train)\n",
        "    for i in range(0,n_tr):\n",
        "        preds_fl[z][i] = np.float(preds[i])\n",
        "    z = z+1\n",
        "\n",
        "pp = [0.0]*len(rfr.estimators_)\n",
        "for i in range(n_tr):\n",
        "    for j in range(0,len(rfr.estimators_)):\n",
        "        pp[j] = preds_fl[j][i]\n",
        "    err_down_train[i] = np.percentile(pp[:], (100 - percentile) / 2. )\n",
        "    err_up_train[i] = np.percentile(pp[:], 100 - (100 - percentile) / 2.)\n",
        "\n",
        "\n",
        "\n",
        "err_up_test   = [0.0]*n_te\n",
        "err_down_test = [0.0]*n_te\n",
        "preds_fl = [[0.0 for a in range(n_te)] for b in range (len(rfr.estimators_))]\n",
        "z = 0\n",
        "\n",
        "for pred in rfr.estimators_:\n",
        "    preds = pred.predict(X_test)\n",
        "    for i in range(0,n_te):\n",
        "        preds_fl[z][i] = np.float(preds[i])\n",
        "    z = z+1\n",
        "\n",
        "pp = [0.0]*len(rfr.estimators_)\n",
        "for i in range(n_te):\n",
        "    for j in range(0,len(rfr.estimators_)):\n",
        "        pp[j] = preds_fl[j][i]\n",
        "    err_down_test[i] = np.percentile(pp[:], (100 - percentile) / 2. )\n",
        "    err_up_test[i] = np.percentile(pp[:], 100 - (100 - percentile) / 2.)\n",
        "\n",
        "\n",
        "#np.savetxt('up_train.csv', err_up_train)\n",
        "#np.savetxt('down_train.csv', err_down_train)\n",
        "#np.savetxt('up_test.csv', err_up_test)\n",
        "#np.savetxt('down_test.csv', err_down_test)\n",
        "\n",
        "\n",
        "\n",
        "    \n",
        "\n",
        "###     Error Bars on Outside Dataset    ###\n",
        "    \n",
        "    \n",
        "    \n",
        "err_up_out = [0.0]*n_out\n",
        "err_down_out = [0.0]*n_out\n",
        "preds_fl = [[0.0 for a in range(n_out)] for b in range (len(rfr.estimators_))]\n",
        "z = 0\n",
        "\n",
        "for pred in rfr.estimators_:\n",
        "    preds = pred.predict(X_out)\n",
        "    for i in range(0,n_out):\n",
        "        preds_fl[z][i] = np.float(preds[i])\n",
        "    z = z+1\n",
        "\n",
        "pp = [0.0]*len(rfr.estimators_)\n",
        "for i in range(n_out):\n",
        "    for j in range(0,len(rfr.estimators_)):\n",
        "        pp[j] = preds_fl[j][i]\n",
        "    err_down_out[i] = np.percentile(pp[:], (100 - percentile) / 2. )\n",
        "    err_up_out[i] = np.percentile(pp[:], 100 - (100 - percentile) / 2.)\n",
        "\n",
        "\n",
        "up_out = [0.0]*n_out\n",
        "down_out = [0.0]*n_out\n",
        "\n",
        "for i in range(0,n_out):\n",
        "    up_out[i] = err_up_out[i] - Pred_out_fl[i]\n",
        "    down_out[i] = Pred_out_fl[i] - err_down_out[i]\n",
        "\n",
        "\n",
        "#np.savetxt('up_out.csv', up_out)\n",
        "#np.savetxt('down_out.csv', down_out)\n",
        "\n",
        "\n",
        "\n",
        "\n",
        "\n",
        "###     Error Bars for Entire Chemical Space    ###\n",
        "\n",
        "\n",
        "err_up_all = [0.0]*n_all\n",
        "err_down_all = [0.0]*n_all\n",
        "preds_fl = [[0.0 for a in range(n_all)] for b in range (len(rfr.estimators_))]\n",
        "z = 0\n",
        "\n",
        "for pred in rfr.estimators_:\n",
        "    preds = pred.predict(X_all)\n",
        "    for i in range(0,n_all):\n",
        "        preds_fl[z][i] = np.float(preds[i])\n",
        "    z = z+1\n",
        "\n",
        "pp = [0.0]*len(rfr.estimators_)\n",
        "for i in range(n_all):\n",
        "    for j in range(0,len(rfr.estimators_)):\n",
        "        pp[j] = preds_fl[j][i]\n",
        "    err_down_all[i] = np.percentile(pp[:], (100 - percentile) / 2. )\n",
        "    err_up_all[i] = np.percentile(pp[:], 100 - (100 - percentile) / 2.)\n",
        "\n",
        "\n",
        "up_all = [0.0]*n_all\n",
        "down_all = [0.0]*n_all\n",
        "\n",
        "for i in range(0,n_all):\n",
        "    up_all[i] = err_up_all[i] - Pred_all_fl[i]\n",
        "    down_all[i] = Pred_all_fl[i] - err_down_all[i]\n",
        "\n",
        "\n",
        "\n",
        "#np.savetxt('up_all.csv', up_all)\n",
        "#np.savetxt('down_all.csv', down_all)\n",
        "\n"
      ],
      "execution_count": 10,
      "outputs": []
    },
    {
      "cell_type": "markdown",
      "metadata": {
        "id": "3kZyz9Y5rlj3",
        "colab_type": "text"
      },
      "source": [
        "*This section is not very important and can be ignored:\n",
        "\n",
        "Divide actual and predicted data by CdX compound type (CdTe or CdSe or CdS). Every training and test point is designated as belonging to one of these compound types and a different symbol is used for each when plotting the results.\n"
      ]
    },
    {
      "cell_type": "code",
      "metadata": {
        "id": "iAD_HQ5Grlj3",
        "colab_type": "code",
        "colab": {}
      },
      "source": [
        "##  Predicted Data by Type of CdX Compound  ##\n",
        "\n",
        "\n",
        "Prop_train_CdTe = [0.0]*len(Prop_train_fl)\n",
        "Prop_train_CdSe = [0.0]*len(Prop_train_fl)\n",
        "Prop_train_CdS = [0.0]*len(Prop_train_fl)\n",
        "Prop_test_CdTe = [0.0]*len(Prop_test_fl)\n",
        "Prop_test_CdSe = [0.0]*len(Prop_test_fl)\n",
        "Prop_test_CdS = [0.0]*len(Prop_test_fl)\n",
        "\n",
        "Pred_train_CdTe = [0.0]*len(Pred_train_fl)\n",
        "Pred_train_CdSe = [0.0]*len(Pred_train_fl)\n",
        "Pred_train_CdS = [0.0]*len(Pred_train_fl)\n",
        "Pred_test_CdTe = [0.0]*len(Pred_test_fl)\n",
        "Pred_test_CdSe = [0.0]*len(Pred_test_fl)\n",
        "Pred_test_CdS = [0.0]*len(Pred_test_fl)\n",
        "\n",
        "\n",
        "aa = 0\n",
        "bb = 0\n",
        "cc = 0\n",
        "dd = 0\n",
        "ee = 0\n",
        "ff = 0\n",
        "gg = 0\n",
        "hh = 0\n",
        "ii = 0\n",
        "jj = 0\n",
        "kk = 0\n",
        "ll = 0\n",
        "\n",
        "for i in range(0,Prop_train_fl.size):\n",
        "    if sc_train[i] == 'CdTe':\n",
        "        Prop_train_CdTe[aa] = Prop_train_fl[i]\n",
        "        Pred_train_CdTe[aa] = Pred_train_fl[i]\n",
        "        aa = aa+1\n",
        "    if sc_train[i] == 'CdSe':\n",
        "        Prop_train_CdSe[bb] = Prop_train_fl[i]\n",
        "        Pred_train_CdSe[bb] = Pred_train_fl[i]\n",
        "        bb = bb+1\n",
        "    if sc_train[i] == 'CdS':\n",
        "        Prop_train_CdS[cc] = Prop_train_fl[i]\n",
        "        Pred_train_CdS[cc] = Pred_train_fl[i]\n",
        "        cc = cc+1\n",
        "\n",
        "for i in range(0,Prop_test_fl.size):\n",
        "    if sc_test[i] == 'CdTe':\n",
        "        Prop_test_CdTe[dd] = Prop_test_fl[i]\n",
        "        Pred_test_CdTe[dd] = Pred_test_fl[i]\n",
        "        dd = dd+1\n",
        "    if sc_test[i] == 'CdSe':\n",
        "        Prop_test_CdSe[ee] = Prop_test_fl[i]\n",
        "        Pred_test_CdSe[ee] = Pred_test_fl[i]\n",
        "        ee = ee+1\n",
        "    if sc_test[i] == 'CdS':\n",
        "        Prop_test_CdS[ff] = Prop_test_fl[i]\n",
        "        Pred_test_CdS[ff] = Pred_test_fl[i]\n",
        "        ff = ff+1\n"
      ],
      "execution_count": 11,
      "outputs": []
    },
    {
      "cell_type": "markdown",
      "metadata": {
        "id": "mR-KfSK_rlj7",
        "colab_type": "text"
      },
      "source": [
        "*This section is not very important and can be ignored:\n",
        "\n",
        "Divide actual and predicted data by CdX compound type (CdTe or CdSe or CdS), including RF predicted error bars. Every training and test point is designated as belonging to one of these compound types and a different symbol is used for each when plotting the results.\n"
      ]
    },
    {
      "cell_type": "code",
      "metadata": {
        "id": "X7XogwAgrlj8",
        "colab_type": "code",
        "colab": {}
      },
      "source": [
        "##  Predicted Data by Type of CdX Compound  ##\n",
        "\n",
        "\n",
        "Prop_train_CdTe = [0.0]*len(Prop_train_fl)\n",
        "err_up_train_CdTe = copy.deepcopy(err_up_train)\n",
        "err_down_train_CdTe = copy.deepcopy(err_down_train)\n",
        "\n",
        "Prop_train_CdSe = [0.0]*len(Prop_train_fl)\n",
        "err_up_train_CdSe = copy.deepcopy(err_up_train)\n",
        "err_down_train_CdSe = copy.deepcopy(err_down_train)\n",
        "\n",
        "Prop_train_CdS = [0.0]*len(Prop_train_fl)\n",
        "err_up_train_CdS = copy.deepcopy(err_up_train)\n",
        "err_down_train_CdS = copy.deepcopy(err_down_train)\n",
        "\n",
        "Prop_test_CdTe = [0.0]*len(Prop_test_fl)\n",
        "err_up_test_CdTe = copy.deepcopy(err_up_test)\n",
        "err_down_test_CdTe = copy.deepcopy(err_down_test)\n",
        "\n",
        "Prop_test_CdSe = [0.0]*len(Prop_test_fl)\n",
        "err_up_test_CdSe = copy.deepcopy(err_up_test)\n",
        "err_down_test_CdSe = copy.deepcopy(err_down_test)\n",
        "\n",
        "Prop_test_CdS = [0.0]*len(Prop_test_fl)\n",
        "err_up_test_CdS = copy.deepcopy(err_up_test)\n",
        "err_down_test_CdS = copy.deepcopy(err_down_test)\n",
        "\n",
        "\n",
        "Pred_train_CdTe = [0.0]*len(Pred_train_fl)\n",
        "Pred_train_CdSe = [0.0]*len(Pred_train_fl)\n",
        "Pred_train_CdS = [0.0]*len(Pred_train_fl)\n",
        "Pred_test_CdTe = [0.0]*len(Pred_test_fl)\n",
        "Pred_test_CdSe = [0.0]*len(Pred_test_fl)\n",
        "Pred_test_CdS = [0.0]*len(Pred_test_fl)\n",
        "\n",
        "\n",
        "\n",
        "aa = 0\n",
        "bb = 0\n",
        "cc = 0\n",
        "dd = 0\n",
        "ee = 0\n",
        "ff = 0\n",
        "gg = 0\n",
        "hh = 0\n",
        "ii = 0\n",
        "jj = 0\n",
        "kk = 0\n",
        "ll = 0\n",
        "\n",
        "for i in range(0,Prop_train_fl.size):\n",
        "    if sc_train[i] == 'CdTe':\n",
        "        Prop_train_CdTe[aa] = Prop_train_fl[i]\n",
        "        Pred_train_CdTe[aa] = Pred_train_fl[i]\n",
        "        err_up_train_CdTe[aa] = err_up_train[i]\n",
        "        err_down_train_CdTe[aa] = err_down_train[i]\n",
        "        aa = aa+1\n",
        "    if sc_train[i] == 'CdSe':\n",
        "        Prop_train_CdSe[bb] = Prop_train_fl[i]\n",
        "        Pred_train_CdSe[bb] = Pred_train_fl[i]\n",
        "        err_up_train_CdSe[bb] = err_up_train[i]\n",
        "        err_down_train_CdSe[bb] = err_down_train[i]\n",
        "        bb = bb+1\n",
        "    if sc_train[i] == 'CdS':\n",
        "        Prop_train_CdS[cc] = Prop_train_fl[i]\n",
        "        Pred_train_CdS[cc] = Pred_train_fl[i]\n",
        "        err_up_train_CdS[cc] = err_up_train[i]\n",
        "        err_down_train_CdS[cc] = err_down_train[i]\n",
        "        cc = cc+1\n",
        "\n",
        "for i in range(0,Prop_test_fl.size):\n",
        "    if sc_test[i] == 'CdTe':\n",
        "        Prop_test_CdTe[dd] = Prop_test_fl[i]\n",
        "        Pred_test_CdTe[dd] = Pred_test_fl[i]\n",
        "        err_up_test_CdTe[dd] = err_up_test[i]\n",
        "        err_down_test_CdTe[dd] = err_down_test[i]\n",
        "        dd = dd+1\n",
        "    if sc_test[i] == 'CdSe':\n",
        "        Prop_test_CdSe[ee] = Prop_test_fl[i]\n",
        "        Pred_test_CdSe[ee] = Pred_test_fl[i]\n",
        "        err_up_test_CdSe[ee] = err_up_test[i]\n",
        "        err_down_test_CdSe[ee] = err_down_test[i]\n",
        "        ee = ee+1\n",
        "    if sc_test[i] == 'CdS':\n",
        "        Prop_test_CdS[ff] = Prop_test_fl[i]\n",
        "        Pred_test_CdS[ff] = Pred_test_fl[i]\n",
        "        err_up_test_CdS[ff] = err_up_test[i]\n",
        "        err_down_test_CdS[ff] = err_down_test[i]\n",
        "        ff = ff+1\n",
        "\n",
        "\n",
        "\n",
        "up_train_CdTe = [0.0]*aa\n",
        "down_train_CdTe = [0.0]*aa\n",
        "up_test_CdTe = [0.0]*dd\n",
        "down_test_CdTe = [0.0]*dd\n",
        "\n",
        "up_train_CdSe = [0.0]*bb\n",
        "down_train_CdSe = [0.0]*bb\n",
        "up_test_CdSe = [0.0]*ee\n",
        "down_test_CdSe = [0.0]*ee\n",
        "\n",
        "up_train_CdS = [0.0]*cc\n",
        "down_train_CdS = [0.0]*cc\n",
        "up_test_CdS = [0.0]*ff\n",
        "down_test_CdS = [0.0]*ff\n",
        "\n",
        "\n",
        "for i in range(0,aa):\n",
        "    up_train_CdTe[i]   = err_up_train_CdTe[i] - Pred_train_CdTe[i]\n",
        "    down_train_CdTe[i] = Pred_train_CdTe[i] - err_down_train_CdTe[i]\n",
        "for i in range(0,bb):\n",
        "    up_train_CdSe[i] = err_up_train_CdSe[i] - Pred_train_CdSe[i]\n",
        "    down_train_CdSe[i] = Pred_train_CdSe[i] - err_down_train_CdSe[i]\n",
        "for i in range(0,cc):\n",
        "    up_train_CdS[i] = err_up_train_CdS[i] - Pred_train_CdS[i]\n",
        "    down_train_CdS[i] = Pred_train_CdS[i] - err_down_train_CdS[i]\n",
        "\n",
        "\n",
        "\n",
        "for i in range(0,dd):\n",
        "    up_test_CdTe[i] = err_up_test_CdTe[i] - Pred_test_CdTe[i]\n",
        "    down_test_CdTe[i] = Pred_test_CdTe[i] - err_down_test_CdTe[i]\n",
        "for i in range(0,ee):\n",
        "    up_test_CdSe[i] = err_up_test_CdSe[i] - Pred_test_CdSe[i]\n",
        "    down_test_CdSe[i] = Pred_test_CdSe[i] - err_down_test_CdSe[i]\n",
        "for i in range(0,ff):\n",
        "    up_test_CdS[i] = err_up_test_CdS[i] - Pred_test_CdS[i]\n",
        "    down_test_CdS[i] = Pred_test_CdS[i] - err_down_test_CdS[i]\n",
        "\n"
      ],
      "execution_count": 12,
      "outputs": []
    },
    {
      "cell_type": "markdown",
      "metadata": {
        "id": "Yt3VHOLYrlkB",
        "colab_type": "text"
      },
      "source": [
        "Print out prediction root mean square errors for training, test and outside points, by semiconductor type."
      ]
    },
    {
      "cell_type": "code",
      "metadata": {
        "id": "ZfLtpdvKrlkB",
        "colab_type": "code",
        "colab": {
          "base_uri": "https://localhost:8080/",
          "height": 187
        },
        "outputId": "140973a9-b515-42eb-bb82-a8ac5b5e9f68"
      },
      "source": [
        "\n",
        "\n",
        "\n",
        "\n",
        "##  Calculate Prediction RMSE  ##\n",
        "\n",
        "\n",
        "rmse_test_prop = np.sqrt ( sklearn.metrics.mean_squared_error(Prop_test_fl, Pred_test_fl) )\n",
        "rmse_train_prop = np.sqrt ( sklearn.metrics.mean_squared_error(Prop_train_fl, Pred_train_fl) )\n",
        "print('rmse_test_prop=', rmse_test_prop)\n",
        "print('rmse_train_prop=', rmse_train_prop)\n",
        "\n",
        "rmse_test_CdTe = np.sqrt ( sklearn.metrics.mean_squared_error(Prop_test_CdTe[0:dd], Pred_test_CdTe[0:dd]) )\n",
        "rmse_train_CdTe = np.sqrt ( sklearn.metrics.mean_squared_error(Prop_train_CdTe[0:aa], Pred_train_CdTe[0:aa]) )\n",
        "print('rmse_test_CdTe=', rmse_test_CdTe)\n",
        "print('rmse_train_CdTe=', rmse_train_CdTe)\n",
        "\n",
        "rmse_test_CdSe = np.sqrt ( sklearn.metrics.mean_squared_error(Prop_test_CdSe[0:ee], Pred_test_CdSe[0:ee]) )\n",
        "rmse_train_CdSe = np.sqrt ( sklearn.metrics.mean_squared_error(Prop_train_CdSe[0:bb], Pred_train_CdSe[0:bb]) )\n",
        "print('rmse_test_CdSe=', rmse_test_CdSe)\n",
        "print('rmse_train_CdSe=', rmse_train_CdSe)\n",
        "\n",
        "rmse_test_CdS = np.sqrt ( sklearn.metrics.mean_squared_error(Prop_test_CdS[0:ff], Pred_test_CdS[0:ff]) )\n",
        "rmse_train_CdS = np.sqrt ( sklearn.metrics.mean_squared_error(Prop_train_CdS[0:cc], Pred_train_CdS[0:cc]) )\n",
        "print('rmse_test_CdS=', rmse_test_CdS)\n",
        "print('rmse_train_CdS=', rmse_train_CdS)\n",
        "\n",
        "rmse_CdTeSe = np.sqrt ( sklearn.metrics.mean_squared_error(Prop_out_fl[0:22], Pred_out_fl[0:22]) )\n",
        "rmse_CdSeS = np.sqrt ( sklearn.metrics.mean_squared_error(Prop_out_fl[22:44], Pred_out_fl[22:44]) )\n",
        "print('rmse_CdTeSe=', rmse_CdTeSe)\n",
        "print('rmse_CdSeS=', rmse_CdSeS)\n",
        "rmse_out = np.sqrt ( sklearn.metrics.mean_squared_error(Prop_out_fl[0:44], Pred_out_fl[0:44]) )\n",
        "\n",
        "\n",
        "\n",
        "\n",
        "\n",
        "\n",
        "\n",
        "\n",
        "\n"
      ],
      "execution_count": 13,
      "outputs": [
        {
          "output_type": "stream",
          "text": [
            "rmse_test_prop= 0.37958248698318353\n",
            "rmse_train_prop= 0.13450131367201365\n",
            "rmse_test_CdTe= 0.26097998752406226\n",
            "rmse_train_CdTe= 0.11387727457450007\n",
            "rmse_test_CdSe= 0.3823409291191061\n",
            "rmse_train_CdSe= 0.1394279146820255\n",
            "rmse_test_CdS= 0.47213402198346766\n",
            "rmse_train_CdS= 0.14751576587250778\n",
            "rmse_CdTeSe= 0.5265704259899832\n",
            "rmse_CdSeS= 0.5790881806261544\n"
          ],
          "name": "stdout"
        }
      ]
    },
    {
      "cell_type": "markdown",
      "metadata": {
        "id": "hUhUwoYmrlkH",
        "colab_type": "text"
      },
      "source": [
        "Plot regression results as DFT vs ML parity plots; comment out error bars if not desired."
      ]
    },
    {
      "cell_type": "code",
      "metadata": {
        "id": "9GNfwTiMrlkI",
        "colab_type": "code",
        "colab": {
          "base_uri": "https://localhost:8080/",
          "height": 498
        },
        "outputId": "1c01bf6b-c634-425d-e9d7-b28248ff9125"
      },
      "source": [
        "\n",
        "\n",
        "\n",
        "\n",
        "##  Plot Regression Results  ##\n",
        "\n",
        "\n",
        "plt.figure(figsize=(6,6))\n",
        "plt.subplots_adjust(left=0.16, bottom=0.16, right=0.95, top=0.90)\n",
        "plt.rc('font', family='Arial narrow')\n",
        "\n",
        "plt.title('RFR Model, Cd-rich Formation Energy (eV)', fontsize=20, pad=12)\n",
        "#plt.title('KRR Model, Cd-rich Formation Energy (eV)', fontsize=20, pad=12)\n",
        "\n",
        "a = [-175,0,125]\n",
        "b = [-175,0,125]\n",
        "plt.plot(b, a, c='k', ls='-')\n",
        "\n",
        "plt.ylabel('ML Prediction', fontname='Arial Narrow', size=32)\n",
        "plt.xlabel('DFT Calculation', fontname='Arial Narrow', size=32)\n",
        "plt.rc('xtick', labelsize=28)\n",
        "plt.rc('ytick', labelsize=28)\n",
        "plt.ylim([-1.0, 9.3])\n",
        "plt.xlim([-1.0, 9.3])\n",
        "\n",
        "#plt.scatter(Prop_train_fl[:], Pred_train_fl[:], c='blue', marker='*', s=200, edgecolors='dimgrey', alpha=1.0, label='Training')\n",
        "#plt.scatter(Prop_test_fl[:], Pred_test_fl[:], c='orange', marker='*', s=200, edgecolors='dimgrey', alpha=0.2, label='Test')\n",
        "\n",
        "\n",
        "plt.scatter(Prop_train_CdTe[:], Pred_train_CdTe[:], c='blue', marker='s', s=100, edgecolors='dimgrey', alpha=1.0, label='Training')\n",
        "plt.scatter(Prop_train_CdSe[:], Pred_train_CdSe[:], c='blue',marker='^', s=150, edgecolors='dimgrey', alpha=1.0, label='_nolegend_')\n",
        "plt.scatter(Prop_train_CdS[:], Pred_train_CdS[:], c='blue', marker='*', s=200, edgecolors='dimgrey', alpha=1.0, label='_nolegend_')\n",
        "plt.scatter(Prop_test_CdTe[:], Pred_test_CdTe[:], c='orange', marker='s', s=100, edgecolors='dimgrey', alpha=0.2, label='Test')\n",
        "plt.scatter(Prop_test_CdSe[:], Pred_test_CdSe[:], c='orange', marker='^', s=150, edgecolors='dimgrey', alpha=0.2, label='_nolegend_')\n",
        "plt.scatter(Prop_test_CdS[:], Pred_test_CdS[:], c='orange', marker='*', s=200, edgecolors='dimgrey', alpha=0.2, label='_nolegend_')\n",
        "plt.scatter(Prop_out_fl[0:22], Pred_out_fl[0:22], c='red', marker='h', s=200, edgecolors='dimgrey', alpha=0.2, label='CdTe$_{0.5}$Se$_{0.5}$')\n",
        "plt.scatter(Prop_out_fl[22:44], Pred_out_fl[22:44], c='green', marker='h', s=200, edgecolors='dimgrey', alpha=0.2, label='CdSe$_{0.5}$S$_{0.5}$')\n",
        "\n",
        "\n",
        "# plt.errorbar(Prop_train_CdTe[0:aa], Pred_train_CdTe[0:aa], yerr = [up_train_CdTe[0:aa], down_train_CdTe[0:aa]], c='blue', marker='s', alpha=1.0, markeredgecolor='dimgrey', markersize=8, fmt='o', ecolor='blue', capthick=1, label='Training')\n",
        "# plt.errorbar(Prop_train_CdSe[0:bb], Pred_train_CdSe[0:bb], yerr = [up_train_CdSe[0:bb], down_train_CdSe[0:bb]], c='blue', marker='^', alpha=1.0, markeredgecolor='dimgrey', markersize=8, fmt='o', ecolor='blue', capthick=1, label='_nolegend_')\n",
        "# plt.errorbar(Prop_train_CdS[0:cc], Pred_train_CdS[0:cc], yerr = [up_train_CdS[0:cc], down_train_CdS[0:cc]], c='blue', marker='*', alpha=1.0, markeredgecolor='dimgrey', markersize=12, fmt='o', ecolor='blue', capthick=1, label='_nolegend_')\n",
        "\n",
        "# plt.errorbar(Prop_test_CdTe[0:dd], Pred_test_CdTe[0:dd], yerr = [up_test_CdTe[0:dd], down_test_CdTe[0:dd]], c='orange', marker='s', alpha=0.2, markeredgecolor='dimgrey', markersize=8, fmt='o', ecolor='orange', capthick=1, label='Test')\n",
        "# plt.errorbar(Prop_test_CdSe[0:ee], Pred_test_CdSe[0:ee], yerr = [up_test_CdSe[0:ee], down_test_CdSe[0:ee]], c='orange', marker='^', alpha=0.2, markeredgecolor='dimgrey', markersize=8, fmt='o', ecolor='orange', capthick=1, label='_nolegend_')\n",
        "# plt.errorbar(Prop_test_CdS[0:ff], Pred_test_CdS[0:ff], yerr = [up_test_CdS[0:ff], down_test_CdS[0:ff]], c='orange', marker='*', alpha=0.2, markeredgecolor='dimgrey', markersize=12, fmt='o', ecolor='orange', capthick=1, label='_nolegend_')\n",
        "\n",
        "# plt.errorbar(Prop_out_fl[0:22], Pred_out_fl[0:22], yerr = [up_out[0:22], down_out[0:22]], c='red', marker='h', alpha=0.2, markeredgecolor='dimgrey', markersize=8, fmt='o', ecolor='red', capthick=1, label='CdTe$_{0.5}$Se$_{0.5}$')\n",
        "# plt.errorbar(Prop_out_fl[22:44], Pred_out_fl[22:44], yerr = [up_out[22:44], down_out[22:44]], c='green', marker='h', alpha=0.2, markeredgecolor='dimgrey', markersize=8, fmt='o', ecolor='green', capthick=1, label='CdSe$_{0.5}$S$_{0.5}$')\n",
        "\n",
        "\n",
        "te = '%.2f' % rmse_test_prop\n",
        "tr = '%.2f' % rmse_train_prop\n",
        "out = '%.2f' % rmse_out\n",
        "\n",
        "plt.text(5.4, 1.5, 'Out_rmse = ', c='r', fontsize=16)\n",
        "plt.text(7.6, 1.5, out, c='r', fontsize=16)\n",
        "plt.text(8.5, 1.5, 'eV', c='r', fontsize=16)\n",
        "plt.text(5.2, 0.8, 'Test_rmse = ', c='r', fontsize=16)\n",
        "plt.text(7.6, 0.8, te, c='r', fontsize=16)\n",
        "plt.text(8.5, 0.8, 'eV', c='r', fontsize=16)\n",
        "plt.text(5.1, 0.1, 'Train_rmse = ', c='r', fontsize=16)\n",
        "plt.text(7.6, 0.1, tr, c='r', fontsize=16)\n",
        "plt.text(8.5, 0.1, 'eV', c='r', fontsize=16)\n",
        "\n",
        "\n",
        "plt.xticks([0, 2, 4, 6, 8])\n",
        "plt.yticks([0, 2, 4, 6, 8])\n",
        "plt.legend(loc='upper left',ncol=1, frameon=True, prop={'family':'Arial narrow','size':16})\n",
        "plt.savefig('plot_Cd_rich.pdf', dpi=450)\n",
        "\n"
      ],
      "execution_count": 14,
      "outputs": [
        {
          "output_type": "stream",
          "text": [
            "findfont: Font family ['Arial narrow'] not found. Falling back to DejaVu Sans.\n",
            "findfont: Font family ['Arial narrow'] not found. Falling back to DejaVu Sans.\n",
            "findfont: Font family ['Arial Narrow'] not found. Falling back to DejaVu Sans.\n",
            "findfont: Font family ['Arial narrow'] not found. Falling back to DejaVu Sans.\n"
          ],
          "name": "stderr"
        },
        {
          "output_type": "display_data",
          "data": {
            "image/png": "[encoded data removed]",
            "text/plain": [
              "<Figure size 432x432 with 1 Axes>"
            ]
          },
          "metadata": {
            "tags": [],
            "needs_background": "light"
          }
        }
      ]
    },
    {
      "cell_type": "code",
      "metadata": {
        "id": "ibAx49lrrlkN",
        "colab_type": "code",
        "colab": {}
      },
      "source": [
        ""
      ],
      "execution_count": null,
      "outputs": []
    }
  ]
}